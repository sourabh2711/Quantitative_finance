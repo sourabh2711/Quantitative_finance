{
  "nbformat": 4,
  "nbformat_minor": 0,
  "metadata": {
    "colab": {
      "provenance": []
    },
    "kernelspec": {
      "name": "python3",
      "display_name": "Python 3"
    },
    "language_info": {
      "name": "python"
    }
  },
  "cells": [
    {
      "cell_type": "code",
      "source": [
        "import yfinance as yf\n",
        "import numpy as np\n",
        "import pandas as pd\n",
        "from scipy.stats import norm"
      ],
      "metadata": {
        "id": "_w8fWeahzrXT",
        "colab": {
          "base_uri": "https://localhost:8080/"
        },
        "outputId": "0251a014-9ba0-4595-87e6-c7f4d05f5ae1"
      },
      "execution_count": 1,
      "outputs": [
        {
          "output_type": "stream",
          "name": "stderr",
          "text": [
            "/usr/local/lib/python3.10/dist-packages/yfinance/base.py:48: FutureWarning: The default dtype for empty Series will be 'object' instead of 'float64' in a future version. Specify a dtype explicitly to silence this warning.\n",
            "  _empty_series = pd.Series()\n"
          ]
        }
      ]
    },
    {
      "cell_type": "code",
      "source": [
        "tickers = ['GOOG', 'AMZN', 'TSLA', 'MSFT', 'AAPL']\n",
        "stock_data = yf.download(tickers, start=\"2022-01-01\", end=\"2024-02-23\")['Adj Close']"
      ],
      "metadata": {
        "colab": {
          "base_uri": "https://localhost:8080/"
        },
        "id": "RQ-lsUblzs_3",
        "outputId": "d429f1f1-fcc6-44af-994e-31ff19fc61cc"
      },
      "execution_count": 2,
      "outputs": [
        {
          "output_type": "stream",
          "name": "stderr",
          "text": [
            "[*********************100%%**********************]  5 of 5 completed\n"
          ]
        }
      ]
    },
    {
      "cell_type": "code",
      "source": [
        "returns_data = stock_data.pct_change().dropna()"
      ],
      "metadata": {
        "id": "QsaAwnA60PD4"
      },
      "execution_count": 3,
      "outputs": []
    },
    {
      "cell_type": "markdown",
      "source": [
        "We have these 5 stocks in our portfolio, we will now calculate the Value at Risk (VaR) and expected shortfall (ES) of this portfolio"
      ],
      "metadata": {
        "id": "fdY1IAmT0oW3"
      }
    },
    {
      "cell_type": "code",
      "source": [
        "#Assigning weights\n",
        "random_numbers = np.random.rand(5)\n",
        "normalized_numbers = random_numbers / random_numbers.sum()\n",
        "normalized_numbers"
      ],
      "metadata": {
        "colab": {
          "base_uri": "https://localhost:8080/"
        },
        "id": "R5xSXcCX1GXr",
        "outputId": "eadd49e7-6806-4bcd-9c9d-c8bd27266956"
      },
      "execution_count": 14,
      "outputs": [
        {
          "output_type": "execute_result",
          "data": {
            "text/plain": [
              "array([0.28356852, 0.22382323, 0.21848678, 0.07992626, 0.19419521])"
            ]
          },
          "metadata": {},
          "execution_count": 14
        }
      ]
    },
    {
      "cell_type": "markdown",
      "source": [
        "VaR using parametric approach is VaR = Mean + z*stdev\n",
        "\n",
        "(Assuming normal data so mean = 0)\n",
        "\n",
        "Portfolio variance = ∑∑ Wi * Wj * Covariance(i,j)"
      ],
      "metadata": {
        "id": "67U_hqk9Q5nc"
      }
    },
    {
      "cell_type": "code",
      "source": [
        "#Using the historical simulation approach\n",
        "def VaR(df,confidence,days):\n",
        "    variance = 0\n",
        "    z_score = norm.ppf(confidence)\n",
        "    for i in range(5):\n",
        "      for j in range(5):\n",
        "        variance = variance + normalized_numbers[i] * normalized_numbers[j] * np.cov(df.iloc[:,i],df.iloc[:,j])[0][1]\n",
        "    stdev = np.sqrt(variance)\n",
        "    #Calculating the 10 day VaR at 95% confidence interval\n",
        "    var = stdev * z_score *np.sqrt(days)\n",
        "    return var\n",
        "\n",
        "print(f\"10 day Value at Risk (VaR) for the portfolio at 95% confidence level : {VaR(returns_data,0.95,10)*100}%\" )"
      ],
      "metadata": {
        "colab": {
          "base_uri": "https://localhost:8080/"
        },
        "id": "Be_kdbmC2ChB",
        "outputId": "ad0af025-cc9f-4315-e3a7-5130352ee049"
      },
      "execution_count": 15,
      "outputs": [
        {
          "output_type": "stream",
          "name": "stdout",
          "text": [
            "10 day Value at Risk (VaR) for the portfolio at 95% confidence level : 10.488219916081519%\n"
          ]
        }
      ]
    },
    {
      "cell_type": "markdown",
      "source": [
        "For calculating the expected shortfall, we will consider intervals from 95% and all the way upto 99.99% to get the most accurate ES"
      ],
      "metadata": {
        "id": "7F7sJXJm9Kn5"
      }
    },
    {
      "cell_type": "code",
      "source": [
        "#Conditional Value at Risk (cVaR) OR Expected shortfall(ES)\n",
        "def ES(start,end):\n",
        "  es = 0.0\n",
        "  i = start\n",
        "  count=0\n",
        "  while i <= end:\n",
        "    es+= VaR(returns_data,i,10)\n",
        "    i += 0.0001\n",
        "    count+=1\n",
        "  return es*100/count"
      ],
      "metadata": {
        "id": "ux8ekhoh452S"
      },
      "execution_count": 18,
      "outputs": []
    },
    {
      "cell_type": "code",
      "source": [
        "ES(0.95,0.9999)"
      ],
      "metadata": {
        "colab": {
          "base_uri": "https://localhost:8080/"
        },
        "id": "e7UwmU7q8gsp",
        "outputId": "21a4bfbe-20d9-4801-cb81-8464188f0d7e"
      },
      "execution_count": 19,
      "outputs": [
        {
          "output_type": "execute_result",
          "data": {
            "text/plain": [
              "13.136632138747913"
            ]
          },
          "metadata": {},
          "execution_count": 19
        }
      ]
    }
  ]
}