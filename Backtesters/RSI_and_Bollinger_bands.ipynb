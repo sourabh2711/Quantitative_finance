{
  "cells": [
    {
      "cell_type": "code",
      "execution_count": 1,
      "id": "b3161f79",
      "metadata": {
        "id": "b3161f79"
      },
      "outputs": [],
      "source": [
        "import yfinance as yf\n",
        "import warnings\n",
        "warnings.filterwarnings('ignore')\n",
        "import numpy as np\n",
        "import datetime as dt\n",
        "import pandas as pd\n",
        "import matplotlib.pyplot as plt\n"
      ]
    },
    {
      "cell_type": "code",
      "execution_count": 10,
      "id": "0ce61300",
      "metadata": {
        "colab": {
          "base_uri": "https://localhost:8080/"
        },
        "id": "0ce61300",
        "outputId": "58691302-098f-424e-9895-9e66954e1fb4"
      },
      "outputs": [
        {
          "output_type": "stream",
          "name": "stdout",
          "text": [
            "INFY\n"
          ]
        }
      ],
      "source": [
        "ticker = 'INFY'\n",
        "print(ticker)\n",
        "ticker = ticker + '.NS'\n",
        "a1 = yf.Ticker(ticker)\n",
        "df = a1.history(period=\"200d\" , interval = '1d')\n",
        "\n",
        "# high_1 = 1000\n",
        "# low_1 = -1000\n",
        "data = df\n",
        "position=0\n",
        "position_index=0\n",
        "target= 10\n",
        "stoploss= 10\n",
        "realised_pnl=0\n",
        "number_of_trades=0\n",
        "number_of_trades_pr=0\n",
        "pnl_l = 0\n",
        "pnl_h = 0\n",
        "pnl_arr = []\n",
        "position_l = []\n",
        "tradebook = {}\n",
        "profit = []\n",
        "loss = []\n",
        "nav = []\n",
        "pnl_l1 =[]"
      ]
    },
    {
      "cell_type": "code",
      "execution_count": 11,
      "id": "0565006f",
      "metadata": {
        "id": "0565006f"
      },
      "outputs": [],
      "source": [
        "def BollingerBands (df0, period, dev):\n",
        "    df = df0\n",
        "    sma = df[\"Close\"].rolling(window = period).mean()\n",
        "    rstd = df[\"Close\"].rolling(window = period).std()\n",
        "    df[\"Standard Moving Average\"] = sma\n",
        "    df[\"std\"] = rstd\n",
        "    df[\"Upper Band\"] = sma + dev * rstd\n",
        "    df[\"Lower Band\"] = sma - dev * rstd\n",
        "\n",
        "    return df"
      ]
    },
    {
      "cell_type": "code",
      "execution_count": 13,
      "id": "f175e1ee",
      "metadata": {
        "colab": {
          "base_uri": "https://localhost:8080/"
        },
        "id": "f175e1ee",
        "outputId": "2c2560a2-14cf-4e65-a387-409348c29a9b"
      },
      "outputs": [
        {
          "output_type": "stream",
          "name": "stdout",
          "text": [
            "position exited at 2023-04-17\n",
            "15.365730782798565%\n",
            "72662.48913282054%\n",
            "short position on 2023-04-18 00:00:00+05:30\n",
            "position exited at 2023-07-04\n",
            "-10.142295688226003%\n",
            "61611.86133378028%\n",
            "long position on 2023-07-05 00:00:00+05:30\n",
            "position exited at 2023-09-05\n",
            "10.156050164234733%\n",
            "-64809.73214101077%\n",
            "long position on 2023-09-06 00:00:00+05:30\n",
            "Net PnL is Rs 142127.1074584106\n",
            "Max Profit is Rs 72662.48913282054\n",
            "Max Loss is Rs 64809.73214101077\n",
            "ROI is Rs -0.7115732001268775\n",
            "Hit Rate is 0.75\n",
            "Reward to risk ratio is 1.0\n",
            "Max drawdown is 64.80973214101077%\n"
          ]
        }
      ],
      "source": [
        "realdata = BollingerBands(data , 20 , 1)\n",
        "for i in range(len(data)):\n",
        "    if((position == 0) & (realdata[\"Close\"][i] > realdata[\"Upper Band\"][i])):\n",
        "        position_date=data.index[i].date()\n",
        "        position_index=data.index[i]\n",
        "        entry_price = data.loc[data.index[i+1],'Open']\n",
        "        position = 1\n",
        "        print('long position on {}'.format(data.index[i]))\n",
        "        number_of_trades=number_of_trades+1\n",
        "        position_l.append(position_index)\n",
        "        continue\n",
        "\n",
        "\n",
        "    if((position == 0) & (realdata[\"Close\"][i] < realdata[\"Lower Band\"][i])):\n",
        "        position_date=data.index[i].date()\n",
        "        position_index=data.index[i]\n",
        "        entry_price = data.loc[data.index[i+1],'Open']\n",
        "        position = -1\n",
        "        print('short position on {}'.format(data.index[i]))\n",
        "        number_of_trades=number_of_trades+1\n",
        "        position_l.append(position_index)\n",
        "        continue\n",
        "\n",
        "    if (position_index!=0):\n",
        "        pnl = ((data.loc[data.index[i],'Close']- entry_price)/entry_price)*(position)*100\n",
        "        pnl_amt = data.loc[data.index[i],'Close']- entry_price*(position)*50\n",
        "\n",
        "    if ((position != 0) and ((pnl>target) or (pnl < -stoploss))):\n",
        "        if(pnl>target):\n",
        "            number_of_trades_pr += 1\n",
        "            profit.append(pnl_amt)\n",
        "        if(pnl>target):\n",
        "            loss.append(pnl_amt)\n",
        "        realised_pnl=realised_pnl+pnl_amt\n",
        "        pnl_l1.append(pnl_amt)\n",
        "        position=0\n",
        "        print('position exited at {}'.format(data.index[i].date()))\n",
        "        position_index=0\n",
        "        tradebook[number_of_trades] = {'entry_date' :position_date ,'entry_price': entry_price ,'long_short': position ,'exit_date' :data.index[i], 'pnl' :pnl}\n",
        "        currval = 100000 + pnl_amt\n",
        "        nav.append(currval)\n",
        "        print(f\"{pnl}%\")\n",
        "        print(f\"{pnl_amt}%\")\n",
        "\n",
        "\n",
        "print(f\"Net PnL is Rs {realised_pnl}\")\n",
        "print(f\"Max Profit is Rs {max(pnl_l1)}\")\n",
        "print(f\"Max Loss is Rs {-min(pnl_l1)}\")\n",
        "print(f\"ROI is Rs {pnl_amt/100000}\")\n",
        "print(f\"Hit Rate is {number_of_trades_pr/number_of_trades}\")\n",
        "print(f\"Reward to risk ratio is {np.mean(profit)/np.mean(loss)}\")\n",
        "minnav = min(nav)\n",
        "maxdd = ((100000 - minnav)/100000)*100\n",
        "print(f\"Max drawdown is {maxdd}%\")"
      ]
    },
    {
      "cell_type": "code",
      "execution_count": 14,
      "id": "f007ba0c",
      "metadata": {
        "id": "f007ba0c"
      },
      "outputs": [],
      "source": [
        "df2 = a1.history(period=\"500d\" , interval = '1d')\n",
        "data = df2\n",
        "position=0\n",
        "position_index=0\n",
        "target= 10\n",
        "stoploss= 10\n",
        "realised_pnl=0\n",
        "number_of_trades=0\n",
        "number_of_trades_pr=0\n",
        "pnl_l = 0\n",
        "pnl_h = 0\n",
        "pnl_arr = []\n",
        "position_l = []\n",
        "tradebook = {}\n",
        "profit = []\n",
        "loss = []\n",
        "nav = []"
      ]
    },
    {
      "cell_type": "code",
      "execution_count": 15,
      "id": "928322f9",
      "metadata": {
        "id": "928322f9"
      },
      "outputs": [],
      "source": [
        "def RSI(df0, period):\n",
        "    df = df0\n",
        "    df[\"delta\"] = df[\"Close\"].diff()\n",
        "    up, down = df[\"delta\"].copy(), df[\"delta\"].copy()\n",
        "    up[up<0] = 0\n",
        "    down[down>0] = 0\n",
        "    df[\"up\"] = up\n",
        "    df[\"down\"] = down\n",
        "    avgain_sma = df[\"up\"].rolling(window = period).mean()\n",
        "    avloss_sma = df[\"down\"].abs().rolling(window = period).mean()\n",
        "    avgain_exp = df[\"up\"].ewm(span=period).mean()\n",
        "    avloss_exp = df[\"down\"].abs().ewm(span=period).mean()\n",
        "    avgain_smoothened = ((df[\"up\"].ewm(span=period).mean()* period - df['up']) * 13) + (df['up'])\n",
        "    avloss_smoothened = ((df[\"down\"].abs().ewm(span=period).mean()* period - df['down'].abs()) * 13) + (df['down'].abs())\n",
        "    rs_sma = avgain_sma/avloss_sma\n",
        "    rs_exp = avgain_exp/avloss_exp\n",
        "    rs_smoothened = avgain_smoothened/avloss_smoothened\n",
        "\n",
        "    rsi_exp = 100.0 - (100.0/(1.0 + rs_exp))\n",
        "    rsi_sma = 100.0 - (100.0/(1.0 + rs_sma))\n",
        "    rsi_smoothened = 100.0 - (100.0/(1.0 + rs_smoothened))\n",
        "\n",
        "    df[\"SMA RSI\"] = rsi_sma\n",
        "    df[\"EMA RSI\"] = rsi_exp\n",
        "    df[\"Smoothened RSI\"] = rsi_smoothened\n",
        "    return df\n",
        "realdata = RSI(data, 27)"
      ]
    },
    {
      "cell_type": "code",
      "execution_count": 16,
      "id": "b45aa700",
      "metadata": {
        "colab": {
          "base_uri": "https://localhost:8080/"
        },
        "id": "b45aa700",
        "outputId": "77e8c3af-c74e-442c-c225-77dff1bfdddd"
      },
      "outputs": [
        {
          "output_type": "stream",
          "name": "stdout",
          "text": [
            "long position on 2021-11-24 00:00:00+05:30\n",
            "position exited at 2021-12-28\n",
            "11.058821420490201%\n",
            "8843.918125513903%\n",
            "Net PnL is Rs 8843.918125513903\n",
            "Max Profit is Rs 72662.48913282054\n",
            "Max Loss is Rs 64809.73214101077\n",
            "ROI is Rs 0.08843918125513903\n",
            "Hit Rate is 1.0\n",
            "Reward to risk ratio is 1.0\n",
            "Max drawdown is -8.843918125513897%\n"
          ]
        }
      ],
      "source": [
        "for i in range (len(realdata)):\n",
        "    if((position == 0) & (realdata[\"Smoothened RSI\"][i] < 20)):\n",
        "        position_date=data.index[i].date()\n",
        "        position_index=data.index[i]\n",
        "        entry_price = data.loc[data.index[i+1],'Open']\n",
        "        position = 1\n",
        "        print('long position on {}'.format(data.index[i]))\n",
        "        number_of_trades=number_of_trades+1\n",
        "        position_l.append(position_index)\n",
        "        continue\n",
        "\n",
        "    if((position == 0) & (realdata[\"Smoothened RSI\"][i] > 80)):\n",
        "        position_date=data.index[i].date()\n",
        "        position_index=data.index[i]\n",
        "        entry_price = data.loc[data.index[i+1],'Open']\n",
        "        position = -1\n",
        "        print('short position on {}'.format(data.index[i]))\n",
        "        number_of_trades=number_of_trades+1\n",
        "        position_l.append(position_index)\n",
        "        continue\n",
        "\n",
        "    if (position_index!=0):\n",
        "        pnl = ((data.loc[data.index[i],'Close']- entry_price)/entry_price)*(position)*100\n",
        "        pnl_amt = (data.loc[data.index[i],'Close']- entry_price)*position*50\n",
        "\n",
        "    if ((position != 0) and ((pnl>target) or (pnl < -stoploss))):\n",
        "\n",
        "        if(pnl>target):\n",
        "            number_of_trades_pr += 1\n",
        "            profit.append(pnl_amt)\n",
        "        if(pnl>target):\n",
        "            loss.append(pnl_amt)\n",
        "        realised_pnl=realised_pnl+pnl_amt\n",
        "        pnl_l1.append(pnl_amt)\n",
        "        position=0\n",
        "        print('position exited at {}'.format(data.index[i].date()))\n",
        "        position_index=0\n",
        "        tradebook[number_of_trades] = {'entry_date' :position_date ,'entry_price': entry_price ,'long_short': position ,'exit_date' :data.index[i], 'pnl' :pnl}\n",
        "        currval = 100000 + pnl_amt\n",
        "        nav.append(currval)\n",
        "        print(f\"{pnl}%\")\n",
        "        print(f\"{pnl_amt}%\")\n",
        "\n",
        "print(f\"Net PnL is Rs {realised_pnl}\")\n",
        "print(f\"Max Profit is Rs {max(pnl_l1)}\")\n",
        "print(f\"Max Loss is Rs {-min(pnl_l1)}\")\n",
        "print(f\"ROI is Rs {pnl_amt/100000}\")\n",
        "print(f\"Hit Rate is {number_of_trades_pr/number_of_trades}\")\n",
        "print(f\"Reward to risk ratio is {np.mean(profit)/np.mean(loss)}\")\n",
        "minnav = min(nav)\n",
        "maxdd = ((100000 - minnav)/100000)*100\n",
        "print(f\"Max drawdown is {maxdd}%\")"
      ]
    },
    {
      "cell_type": "code",
      "execution_count": null,
      "id": "ffe79279",
      "metadata": {
        "id": "ffe79279"
      },
      "outputs": [],
      "source": []
    },
    {
      "cell_type": "code",
      "execution_count": null,
      "id": "b0fb58fa",
      "metadata": {
        "id": "b0fb58fa"
      },
      "outputs": [],
      "source": []
    }
  ],
  "metadata": {
    "kernelspec": {
      "display_name": "Python 3 (ipykernel)",
      "language": "python",
      "name": "python3"
    },
    "language_info": {
      "codemirror_mode": {
        "name": "ipython",
        "version": 3
      },
      "file_extension": ".py",
      "mimetype": "text/x-python",
      "name": "python",
      "nbconvert_exporter": "python",
      "pygments_lexer": "ipython3",
      "version": "3.11.4"
    },
    "colab": {
      "provenance": []
    }
  },
  "nbformat": 4,
  "nbformat_minor": 5
}